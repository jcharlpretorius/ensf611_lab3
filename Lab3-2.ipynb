{
 "cells": [
  {
   "cell_type": "markdown",
   "id": "87fee377",
   "metadata": {},
   "source": [
    "# Lab 3 - Part 2: PCA and Clustering (12 marks)\n",
    "### Due Date: Monday, March 13 at 12pm\n",
    "\n",
    "Author: Jean-Charl Pretorius"
   ]
  },
  {
   "cell_type": "markdown",
   "id": "ba7f05d0",
   "metadata": {},
   "source": [
    "The purpose of this portion of the assignment is to practice using PCA and clustering techniques on a given dataset"
   ]
  },
  {
   "cell_type": "code",
   "execution_count": 1,
   "id": "be4299ae",
   "metadata": {},
   "outputs": [],
   "source": [
    "import numpy as np\n",
    "import pandas as pd\n",
    "import matplotlib.pyplot as plt\n",
    "import seaborn as sns"
   ]
  },
  {
   "cell_type": "markdown",
   "id": "18a83b6f",
   "metadata": {},
   "source": [
    "## 0. Function definitions (2 marks)"
   ]
  },
  {
   "cell_type": "code",
   "execution_count": 12,
   "id": "13d602f2",
   "metadata": {},
   "outputs": [],
   "source": [
    "from sklearn.cluster import KMeans\n",
    "from sklearn.decomposition import PCA\n",
    "from sklearn.metrics import silhouette_score\n",
    "\n",
    "def cluster_fn(X, n_clusters, n_components=0):\n",
    "    '''Calculate silhouette score for a given dataset, number of clusters, \n",
    "       and number of principle components using Kmeans clustering (random_state=0)\n",
    "        \n",
    "        n_clusters (int): number of clusters to use for Kmeans\n",
    "        n_components (int): number of principle components (optional)\n",
    "        X (numpy.array or pandas.DataFrame): unlabelled dataset\n",
    "        \n",
    "        returns: silhouette score\n",
    "    \n",
    "    '''\n",
    "    # TODO: Implement function body\n",
    "    if (n_components):\n",
    "        # perform PCA\n",
    "        pca = PCA(n_components=n_components)\n",
    "    \n",
    "        # fit and transform the data on the pca components\n",
    "        pca.fit(X)\n",
    "        X = pca.transform(X)\n",
    "    \n",
    "    kmeans = KMeans(n_clusters=n_clusters, random_state=0).fit(X)\n",
    "    score = silhouette_score(X, kmeans.labels_)\n",
    "    return score\n",
    "    \n",
    "    "
   ]
  },
  {
   "cell_type": "markdown",
   "id": "fe7cfa4f",
   "metadata": {},
   "source": [
    "## 1. Load data (2 marks)\n",
    "\n",
    "For this assignment, we will use the dataset found below:\n",
    "\n",
    "https://archive.ics.uci.edu/ml/datasets/Chemical+Composition+of+Ceramic+Samples"
   ]
  },
  {
   "cell_type": "code",
   "execution_count": 5,
   "id": "474481f1",
   "metadata": {},
   "outputs": [
    {
     "name": "stdout",
     "output_type": "stream",
     "text": [
      "<class 'pandas.core.frame.DataFrame'>\n",
      "RangeIndex: 88 entries, 0 to 87\n",
      "Data columns (total 19 columns):\n",
      " #   Column        Non-Null Count  Dtype  \n",
      "---  ------        --------------  -----  \n",
      " 0   Ceramic Name  88 non-null     object \n",
      " 1   Part          88 non-null     object \n",
      " 2   Na2O          88 non-null     float64\n",
      " 3   MgO           88 non-null     float64\n",
      " 4   Al2O3         88 non-null     float64\n",
      " 5   SiO2          88 non-null     float64\n",
      " 6   K2O           88 non-null     float64\n",
      " 7   CaO           88 non-null     float64\n",
      " 8   TiO2          88 non-null     float64\n",
      " 9   Fe2O3         88 non-null     float64\n",
      " 10  MnO           88 non-null     int64  \n",
      " 11  CuO           88 non-null     int64  \n",
      " 12  ZnO           88 non-null     int64  \n",
      " 13  PbO2          88 non-null     int64  \n",
      " 14  Rb2O          88 non-null     int64  \n",
      " 15  SrO           88 non-null     int64  \n",
      " 16  Y2O3          88 non-null     int64  \n",
      " 17  ZrO2          88 non-null     int64  \n",
      " 18  P2O5          88 non-null     int64  \n",
      "dtypes: float64(8), int64(9), object(2)\n",
      "memory usage: 13.2+ KB\n"
     ]
    }
   ],
   "source": [
    "# TODO: Import dataset\n",
    "ceramic_data = pd.read_csv('Chemical Composion of Ceramic.csv', na_values='?')\n",
    "\n",
    "ceramic_data.info()"
   ]
  },
  {
   "cell_type": "markdown",
   "id": "f908b657",
   "metadata": {},
   "source": [
    "Two of the columns are non-numeric. For this assignment, we will remove those two columns and focus on clustering the ceramic samples based on the numerical measurements"
   ]
  },
  {
   "cell_type": "code",
   "execution_count": 6,
   "id": "e2efda0e",
   "metadata": {},
   "outputs": [
    {
     "name": "stdout",
     "output_type": "stream",
     "text": [
      "<class 'pandas.core.frame.DataFrame'>\n",
      "RangeIndex: 88 entries, 0 to 87\n",
      "Data columns (total 17 columns):\n",
      " #   Column  Non-Null Count  Dtype  \n",
      "---  ------  --------------  -----  \n",
      " 0   Na2O    88 non-null     float64\n",
      " 1   MgO     88 non-null     float64\n",
      " 2   Al2O3   88 non-null     float64\n",
      " 3   SiO2    88 non-null     float64\n",
      " 4   K2O     88 non-null     float64\n",
      " 5   CaO     88 non-null     float64\n",
      " 6   TiO2    88 non-null     float64\n",
      " 7   Fe2O3   88 non-null     float64\n",
      " 8   MnO     88 non-null     int64  \n",
      " 9   CuO     88 non-null     int64  \n",
      " 10  ZnO     88 non-null     int64  \n",
      " 11  PbO2    88 non-null     int64  \n",
      " 12  Rb2O    88 non-null     int64  \n",
      " 13  SrO     88 non-null     int64  \n",
      " 14  Y2O3    88 non-null     int64  \n",
      " 15  ZrO2    88 non-null     int64  \n",
      " 16  P2O5    88 non-null     int64  \n",
      "dtypes: float64(8), int64(9)\n",
      "memory usage: 11.8 KB\n"
     ]
    }
   ],
   "source": [
    "# TODO: Remove non-numeric columns\n",
    "ceramic_data.drop(columns=[\"Ceramic Name\", \"Part\"], axis=1, inplace=True)\n",
    "ceramic_data.info()"
   ]
  },
  {
   "cell_type": "markdown",
   "id": "3bf578b1",
   "metadata": {},
   "source": [
    "## 2. Implement clustering (8 marks)"
   ]
  },
  {
   "cell_type": "markdown",
   "id": "980c62e1",
   "metadata": {},
   "source": [
    "### 2.1 Cluster using raw data (1 mark)\n",
    "\n",
    "Implement Kmeans clustering using the raw data. Compare the silhouette scores using 2, 3, 4, 5 and 6 clusters"
   ]
  },
  {
   "cell_type": "code",
   "execution_count": 21,
   "id": "5f85da0b",
   "metadata": {
    "scrolled": true
   },
   "outputs": [],
   "source": [
    "# TODO: Implement clustering with raw data using cluster_fn above\n",
    "\n",
    "\n",
    "sils = []\n",
    "clusters_list = range(2, 7)\n",
    "for n_clusters in clusters_list:\n",
    "    cluster_fn(ceramic_data, n_clusters)\n",
    "    sils.append(cluster_fn(ceramic_data, n_clusters))\n"
   ]
  },
  {
   "cell_type": "markdown",
   "id": "48df428e",
   "metadata": {},
   "source": [
    "### 2.2 Cluster using PCA-transformed data (2 marks)\n",
    "\n",
    "Implement Kmeans clustering using the PCA-transformed data. Compare the silhouette scores using 2, 3, 4, 5 and 6 clusters and 2, 3, 4, 5 and 6 principle components "
   ]
  },
  {
   "cell_type": "code",
   "execution_count": 34,
   "id": "de0a5d80",
   "metadata": {},
   "outputs": [],
   "source": [
    "# TODO: Implement clustering with PCA-transformed data using cluster_fn above\n",
    "pca_components_list = range(2, 7)\n",
    "clusters_list = range(2, 7)\n",
    "\n",
    "pcas = {}\n",
    "\n",
    "for n_components in pca_components_list:\n",
    "    sils_scores = []\n",
    "    for n_clusters in clusters_list:\n",
    "        sil = cluster_fn(ceramic_data, n_clusters, n_components)\n",
    "        sils_scores.append(sil)\n",
    "    pcas[n_components] = sils_scores"
   ]
  },
  {
   "cell_type": "markdown",
   "id": "50eb5219",
   "metadata": {},
   "source": [
    "### 2.3 Display results (2 marks)\n",
    "\n",
    "Print the results for 2.1 and 2.2 in a table. Include column and row labels"
   ]
  },
  {
   "cell_type": "code",
   "execution_count": 23,
   "id": "9ae81ac6",
   "metadata": {
    "scrolled": true
   },
   "outputs": [
    {
     "data": {
      "text/html": [
       "<div>\n",
       "<style scoped>\n",
       "    .dataframe tbody tr th:only-of-type {\n",
       "        vertical-align: middle;\n",
       "    }\n",
       "\n",
       "    .dataframe tbody tr th {\n",
       "        vertical-align: top;\n",
       "    }\n",
       "\n",
       "    .dataframe thead th {\n",
       "        text-align: right;\n",
       "    }\n",
       "</style>\n",
       "<table border=\"1\" class=\"dataframe\">\n",
       "  <thead>\n",
       "    <tr style=\"text-align: right;\">\n",
       "      <th></th>\n",
       "      <th>n_clusters</th>\n",
       "      <th>silhouette</th>\n",
       "    </tr>\n",
       "  </thead>\n",
       "  <tbody>\n",
       "    <tr>\n",
       "      <th>0</th>\n",
       "      <td>2</td>\n",
       "      <td>0.584013</td>\n",
       "    </tr>\n",
       "    <tr>\n",
       "      <th>1</th>\n",
       "      <td>3</td>\n",
       "      <td>0.561640</td>\n",
       "    </tr>\n",
       "    <tr>\n",
       "      <th>2</th>\n",
       "      <td>4</td>\n",
       "      <td>0.543411</td>\n",
       "    </tr>\n",
       "    <tr>\n",
       "      <th>3</th>\n",
       "      <td>5</td>\n",
       "      <td>0.508064</td>\n",
       "    </tr>\n",
       "    <tr>\n",
       "      <th>4</th>\n",
       "      <td>6</td>\n",
       "      <td>0.510399</td>\n",
       "    </tr>\n",
       "  </tbody>\n",
       "</table>\n",
       "</div>"
      ],
      "text/plain": [
       "   n_clusters  silhouette\n",
       "0           2    0.584013\n",
       "1           3    0.561640\n",
       "2           4    0.543411\n",
       "3           5    0.508064\n",
       "4           6    0.510399"
      ]
     },
     "execution_count": 23,
     "metadata": {},
     "output_type": "execute_result"
    }
   ],
   "source": [
    "# TODO: Display results\n",
    "#2.1)\n",
    "df_sils = pd.DataFrame({'n_clusters': clusters_list, 'silhouette': sils})\n",
    "df_sils\n"
   ]
  },
  {
   "cell_type": "code",
   "execution_count": 24,
   "id": "c7665554",
   "metadata": {},
   "outputs": [
    {
     "data": {
      "image/png": "[encoded data removed]",
      "text/plain": [
       "<Figure size 640x480 with 1 Axes>"
      ]
     },
     "metadata": {},
     "output_type": "display_data"
    }
   ],
   "source": [
    "ax = df_sils.plot(x='n_clusters', y='silhouette')\n",
    "\n",
    "plt.xlabel('Number of clusters(k)')\n",
    "plt.ylabel('Silhouette score')\n",
    "plt.ylim((0, 1.1 * df_sils.silhouette.max()))\n",
    "plt.grid(True)\n",
    "ax.legend().set_visible(False)\n",
    "plt.title(\"Number of Clusters vs Silhouette Score\");"
   ]
  },
  {
   "cell_type": "code",
   "execution_count": 33,
   "id": "11f4d0e7",
   "metadata": {},
   "outputs": [
    {
     "data": {
      "text/html": [
       "<div>\n",
       "<style scoped>\n",
       "    .dataframe tbody tr th:only-of-type {\n",
       "        vertical-align: middle;\n",
       "    }\n",
       "\n",
       "    .dataframe tbody tr th {\n",
       "        vertical-align: top;\n",
       "    }\n",
       "\n",
       "    .dataframe thead th {\n",
       "        text-align: right;\n",
       "    }\n",
       "</style>\n",
       "<table border=\"1\" class=\"dataframe\">\n",
       "  <thead>\n",
       "    <tr style=\"text-align: right;\">\n",
       "      <th>PCA Components</th>\n",
       "      <th>2</th>\n",
       "      <th>3</th>\n",
       "      <th>4</th>\n",
       "      <th>5</th>\n",
       "      <th>6</th>\n",
       "    </tr>\n",
       "    <tr>\n",
       "      <th>Number of clusters</th>\n",
       "      <th></th>\n",
       "      <th></th>\n",
       "      <th></th>\n",
       "      <th></th>\n",
       "      <th></th>\n",
       "    </tr>\n",
       "  </thead>\n",
       "  <tbody>\n",
       "    <tr>\n",
       "      <th>2</th>\n",
       "      <td>0.619442</td>\n",
       "      <td>0.599961</td>\n",
       "      <td>0.589955</td>\n",
       "      <td>0.587472</td>\n",
       "      <td>0.585963</td>\n",
       "    </tr>\n",
       "    <tr>\n",
       "      <th>3</th>\n",
       "      <td>0.611625</td>\n",
       "      <td>0.586609</td>\n",
       "      <td>0.570949</td>\n",
       "      <td>0.567470</td>\n",
       "      <td>0.564725</td>\n",
       "    </tr>\n",
       "    <tr>\n",
       "      <th>4</th>\n",
       "      <td>0.600752</td>\n",
       "      <td>0.570531</td>\n",
       "      <td>0.553715</td>\n",
       "      <td>0.549286</td>\n",
       "      <td>0.546752</td>\n",
       "    </tr>\n",
       "    <tr>\n",
       "      <th>5</th>\n",
       "      <td>0.567088</td>\n",
       "      <td>0.545911</td>\n",
       "      <td>0.521348</td>\n",
       "      <td>0.515809</td>\n",
       "      <td>0.512537</td>\n",
       "    </tr>\n",
       "    <tr>\n",
       "      <th>6</th>\n",
       "      <td>0.569320</td>\n",
       "      <td>0.550951</td>\n",
       "      <td>0.529829</td>\n",
       "      <td>0.524216</td>\n",
       "      <td>0.515274</td>\n",
       "    </tr>\n",
       "  </tbody>\n",
       "</table>\n",
       "</div>"
      ],
      "text/plain": [
       "PCA Components             2         3         4         5         6\n",
       "Number of clusters                                                  \n",
       "2                   0.619442  0.599961  0.589955  0.587472  0.585963\n",
       "3                   0.611625  0.586609  0.570949  0.567470  0.564725\n",
       "4                   0.600752  0.570531  0.553715  0.549286  0.546752\n",
       "5                   0.567088  0.545911  0.521348  0.515809  0.512537\n",
       "6                   0.569320  0.550951  0.529829  0.524216  0.515274"
      ]
     },
     "execution_count": 33,
     "metadata": {},
     "output_type": "execute_result"
    }
   ],
   "source": [
    "# 2.3)\n",
    "df_pca_sils = pd.DataFrame.from_dict(pcas)\n",
    "df_pca_sils.index = clusters_list\n",
    "df_pca_sils.index.name = 'Number of clusters'\n",
    "df_pca_sils = df_pca_sils.rename_axis('PCA Components', axis='columns')\n",
    "df_pca_sils"
   ]
  },
  {
   "cell_type": "markdown",
   "id": "e1086de9",
   "metadata": {},
   "source": [
    "**Question**: Which combination of number of clusters and number of components produced the best results? What is the silhouette score for this combination? **(3 marks)**\n",
    "\n",
    "The best result was a silhouette score of 0.619 from using 2 PCA components and 2 clusters"
   ]
  },
  {
   "cell_type": "markdown",
   "id": "6e64bf4a",
   "metadata": {},
   "source": [
    "## 3. Improve results (Bonus - 3 marks)\n",
    "\n",
    "Think about how you could improve the results from the previous section. Two potential methods include preprocessing the data or selecting a different clustering algorithm. Repeat section 2 with your selected improvement method to determine what the new silhouette scores would be"
   ]
  },
  {
   "cell_type": "code",
   "execution_count": 43,
   "id": "492fa868",
   "metadata": {
    "scrolled": true
   },
   "outputs": [
    {
     "data": {
      "text/html": [
       "<div>\n",
       "<style scoped>\n",
       "    .dataframe tbody tr th:only-of-type {\n",
       "        vertical-align: middle;\n",
       "    }\n",
       "\n",
       "    .dataframe tbody tr th {\n",
       "        vertical-align: top;\n",
       "    }\n",
       "\n",
       "    .dataframe thead th {\n",
       "        text-align: right;\n",
       "    }\n",
       "</style>\n",
       "<table border=\"1\" class=\"dataframe\">\n",
       "  <thead>\n",
       "    <tr style=\"text-align: right;\">\n",
       "      <th></th>\n",
       "      <th>Na2O</th>\n",
       "      <th>MgO</th>\n",
       "      <th>Al2O3</th>\n",
       "      <th>SiO2</th>\n",
       "      <th>K2O</th>\n",
       "      <th>CaO</th>\n",
       "      <th>TiO2</th>\n",
       "      <th>Fe2O3</th>\n",
       "      <th>MnO</th>\n",
       "      <th>CuO</th>\n",
       "      <th>ZnO</th>\n",
       "      <th>PbO2</th>\n",
       "      <th>Rb2O</th>\n",
       "      <th>SrO</th>\n",
       "      <th>Y2O3</th>\n",
       "      <th>ZrO2</th>\n",
       "      <th>P2O5</th>\n",
       "    </tr>\n",
       "  </thead>\n",
       "  <tbody>\n",
       "    <tr>\n",
       "      <th>0</th>\n",
       "      <td>0.427622</td>\n",
       "      <td>-0.234390</td>\n",
       "      <td>0.459539</td>\n",
       "      <td>0.790484</td>\n",
       "      <td>-0.158280</td>\n",
       "      <td>-0.902027</td>\n",
       "      <td>-0.588232</td>\n",
       "      <td>-0.635104</td>\n",
       "      <td>-0.309051</td>\n",
       "      <td>-1.101185</td>\n",
       "      <td>-0.751771</td>\n",
       "      <td>-1.078864</td>\n",
       "      <td>1.722268</td>\n",
       "      <td>-0.898362</td>\n",
       "      <td>-0.230713</td>\n",
       "      <td>-1.095794</td>\n",
       "      <td>-0.876485</td>\n",
       "    </tr>\n",
       "    <tr>\n",
       "      <th>1</th>\n",
       "      <td>0.283443</td>\n",
       "      <td>0.186555</td>\n",
       "      <td>0.797390</td>\n",
       "      <td>0.096720</td>\n",
       "      <td>0.001819</td>\n",
       "      <td>-0.859984</td>\n",
       "      <td>-0.211763</td>\n",
       "      <td>-0.734965</td>\n",
       "      <td>-0.718390</td>\n",
       "      <td>-0.574531</td>\n",
       "      <td>-0.455108</td>\n",
       "      <td>0.055877</td>\n",
       "      <td>1.722268</td>\n",
       "      <td>-0.937615</td>\n",
       "      <td>-0.230713</td>\n",
       "      <td>-0.760968</td>\n",
       "      <td>-0.826530</td>\n",
       "    </tr>\n",
       "    <tr>\n",
       "      <th>2</th>\n",
       "      <td>0.052756</td>\n",
       "      <td>-1.123051</td>\n",
       "      <td>0.243571</td>\n",
       "      <td>1.780011</td>\n",
       "      <td>-1.724969</td>\n",
       "      <td>-0.873998</td>\n",
       "      <td>-0.776466</td>\n",
       "      <td>-0.818183</td>\n",
       "      <td>-0.652896</td>\n",
       "      <td>-0.574531</td>\n",
       "      <td>-1.345098</td>\n",
       "      <td>0.434125</td>\n",
       "      <td>1.001928</td>\n",
       "      <td>-0.741349</td>\n",
       "      <td>-0.230713</td>\n",
       "      <td>-1.095794</td>\n",
       "      <td>-0.601732</td>\n",
       "    </tr>\n",
       "    <tr>\n",
       "      <th>3</th>\n",
       "      <td>1.206188</td>\n",
       "      <td>-0.608563</td>\n",
       "      <td>0.117412</td>\n",
       "      <td>1.593790</td>\n",
       "      <td>-1.107442</td>\n",
       "      <td>-0.911370</td>\n",
       "      <td>-0.211763</td>\n",
       "      <td>-0.551886</td>\n",
       "      <td>-0.587402</td>\n",
       "      <td>-0.574531</td>\n",
       "      <td>-0.751771</td>\n",
       "      <td>0.812372</td>\n",
       "      <td>1.001928</td>\n",
       "      <td>-0.859108</td>\n",
       "      <td>-0.230713</td>\n",
       "      <td>-1.263207</td>\n",
       "      <td>-0.576754</td>\n",
       "    </tr>\n",
       "    <tr>\n",
       "      <th>4</th>\n",
       "      <td>-1.273690</td>\n",
       "      <td>-0.327933</td>\n",
       "      <td>0.202944</td>\n",
       "      <td>1.520763</td>\n",
       "      <td>-0.741500</td>\n",
       "      <td>-0.822611</td>\n",
       "      <td>-0.964700</td>\n",
       "      <td>-0.618460</td>\n",
       "      <td>-0.718390</td>\n",
       "      <td>0.478776</td>\n",
       "      <td>-0.158445</td>\n",
       "      <td>0.055877</td>\n",
       "      <td>0.713792</td>\n",
       "      <td>-0.859108</td>\n",
       "      <td>-1.011586</td>\n",
       "      <td>-1.095794</td>\n",
       "      <td>-0.726619</td>\n",
       "    </tr>\n",
       "  </tbody>\n",
       "</table>\n",
       "</div>"
      ],
      "text/plain": [
       "       Na2O       MgO     Al2O3      SiO2       K2O       CaO      TiO2  \\\n",
       "0  0.427622 -0.234390  0.459539  0.790484 -0.158280 -0.902027 -0.588232   \n",
       "1  0.283443  0.186555  0.797390  0.096720  0.001819 -0.859984 -0.211763   \n",
       "2  0.052756 -1.123051  0.243571  1.780011 -1.724969 -0.873998 -0.776466   \n",
       "3  1.206188 -0.608563  0.117412  1.593790 -1.107442 -0.911370 -0.211763   \n",
       "4 -1.273690 -0.327933  0.202944  1.520763 -0.741500 -0.822611 -0.964700   \n",
       "\n",
       "      Fe2O3       MnO       CuO       ZnO      PbO2      Rb2O       SrO  \\\n",
       "0 -0.635104 -0.309051 -1.101185 -0.751771 -1.078864  1.722268 -0.898362   \n",
       "1 -0.734965 -0.718390 -0.574531 -0.455108  0.055877  1.722268 -0.937615   \n",
       "2 -0.818183 -0.652896 -0.574531 -1.345098  0.434125  1.001928 -0.741349   \n",
       "3 -0.551886 -0.587402 -0.574531 -0.751771  0.812372  1.001928 -0.859108   \n",
       "4 -0.618460 -0.718390  0.478776 -0.158445  0.055877  0.713792 -0.859108   \n",
       "\n",
       "       Y2O3      ZrO2      P2O5  \n",
       "0 -0.230713 -1.095794 -0.876485  \n",
       "1 -0.230713 -0.760968 -0.826530  \n",
       "2 -0.230713 -1.095794 -0.601732  \n",
       "3 -0.230713 -1.263207 -0.576754  \n",
       "4 -1.011586 -1.095794 -0.726619  "
      ]
     },
     "execution_count": 43,
     "metadata": {},
     "output_type": "execute_result"
    }
   ],
   "source": [
    "\n",
    "# Scale data with standard scaler\n",
    "from sklearn.preprocessing import StandardScaler\n",
    "scaler = StandardScaler()\n",
    "scaler.fit(ceramic_data)\n",
    "\n",
    "df_cscaled = pd.DataFrame(scaler.transform(ceramic_data), columns=ceramic_data.columns)\n",
    "df_cscaled.head()\n"
   ]
  },
  {
   "cell_type": "code",
   "execution_count": 44,
   "id": "3a8a9432",
   "metadata": {},
   "outputs": [],
   "source": [
    "# Implement clustering with scaled data \n",
    "\n",
    "sils = []\n",
    "clusters_list = range(2, 7)\n",
    "for n_clusters in clusters_list:\n",
    "    cluster_fn(df_cscaled, n_clusters)\n",
    "    sils.append(cluster_fn(df_cscaled, n_clusters))"
   ]
  },
  {
   "cell_type": "code",
   "execution_count": null,
   "id": "7d3e96cd",
   "metadata": {},
   "outputs": [],
   "source": [
    "# Cluster using PCA tranformed data\n",
    "# pca_components_list = range(2, 7)\n",
    "# clusters_list = range(2, 7)\n",
    "\n",
    "# scaled_pcas = {}\n",
    "\n",
    "\n",
    "# for n_components in pca_components_list:\n",
    "#     sils = []\n",
    "#     pcas = PCA(n_components=n_components)\n",
    "    \n",
    "#     # fit and transform the scaled data on the pca components\n",
    "#     pcas.fit(df_cscaled)\n",
    "#     X_pca = pcas.transform(df_cscaled)\n",
    "    \n",
    "#     for n_clusters in clusters_list:\n",
    "#         kmeans = KMeans(n_clusters=n_clusters, random_state=4).fit(X_pca)\n",
    "#         sils.append(silhouette_score(X_pca, kmeans.labels_))\n",
    "#     scaled_pcas[n_components] = sils"
   ]
  },
  {
   "cell_type": "code",
   "execution_count": 53,
   "id": "e41bbcd7",
   "metadata": {},
   "outputs": [],
   "source": [
    "# Cluster using PCA tranformed data\n",
    "\n",
    "pca_components_list = range(2, 7)\n",
    "clusters_list = range(2, 7)\n",
    "\n",
    "scaled_pcas = {}\n",
    "\n",
    "for n_components in pca_components_list:\n",
    "    sils_scores = []\n",
    "    for n_clusters in clusters_list:\n",
    "        sil = cluster_fn(ceramic_data, n_clusters, n_components)\n",
    "        sils_scores.append(sil)\n",
    "    scaled_pcas[n_components] = sils_scores"
   ]
  },
  {
   "cell_type": "code",
   "execution_count": 46,
   "id": "d9e53c69",
   "metadata": {
    "scrolled": true
   },
   "outputs": [
    {
     "data": {
      "text/html": [
       "<div>\n",
       "<style scoped>\n",
       "    .dataframe tbody tr th:only-of-type {\n",
       "        vertical-align: middle;\n",
       "    }\n",
       "\n",
       "    .dataframe tbody tr th {\n",
       "        vertical-align: top;\n",
       "    }\n",
       "\n",
       "    .dataframe thead th {\n",
       "        text-align: right;\n",
       "    }\n",
       "</style>\n",
       "<table border=\"1\" class=\"dataframe\">\n",
       "  <thead>\n",
       "    <tr style=\"text-align: right;\">\n",
       "      <th></th>\n",
       "      <th>n_clusters</th>\n",
       "      <th>silhouette</th>\n",
       "    </tr>\n",
       "  </thead>\n",
       "  <tbody>\n",
       "    <tr>\n",
       "      <th>0</th>\n",
       "      <td>2</td>\n",
       "      <td>0.286008</td>\n",
       "    </tr>\n",
       "    <tr>\n",
       "      <th>1</th>\n",
       "      <td>3</td>\n",
       "      <td>0.268343</td>\n",
       "    </tr>\n",
       "    <tr>\n",
       "      <th>2</th>\n",
       "      <td>4</td>\n",
       "      <td>0.242909</td>\n",
       "    </tr>\n",
       "    <tr>\n",
       "      <th>3</th>\n",
       "      <td>5</td>\n",
       "      <td>0.231110</td>\n",
       "    </tr>\n",
       "    <tr>\n",
       "      <th>4</th>\n",
       "      <td>6</td>\n",
       "      <td>0.221541</td>\n",
       "    </tr>\n",
       "  </tbody>\n",
       "</table>\n",
       "</div>"
      ],
      "text/plain": [
       "   n_clusters  silhouette\n",
       "0           2    0.286008\n",
       "1           3    0.268343\n",
       "2           4    0.242909\n",
       "3           5    0.231110\n",
       "4           6    0.221541"
      ]
     },
     "execution_count": 46,
     "metadata": {},
     "output_type": "execute_result"
    }
   ],
   "source": [
    "# Display results\n",
    "# 3.2.1)\n",
    "df_scaled_sils = pd.DataFrame({'n_clusters': clusters_list, 'silhouette': sils})\n",
    "df_scaled_sils"
   ]
  },
  {
   "cell_type": "code",
   "execution_count": 47,
   "id": "bdee668e",
   "metadata": {
    "scrolled": true
   },
   "outputs": [
    {
     "data": {
      "image/png": "[encoded data removed]",
      "text/plain": [
       "<Figure size 640x480 with 1 Axes>"
      ]
     },
     "metadata": {},
     "output_type": "display_data"
    }
   ],
   "source": [
    "ax = df_scaled_sils.plot(x='n_clusters', y='silhouette')\n",
    "\n",
    "plt.xlabel('Number of clusters(k)')\n",
    "plt.ylabel('Silhouette score')\n",
    "plt.ylim((0, 1.1 * df_scaled_sils.silhouette.max()))\n",
    "plt.grid(True)\n",
    "ax.legend().set_visible(False)\n",
    "plt.title(\"Scaled Ceramic Data\");"
   ]
  },
  {
   "cell_type": "code",
   "execution_count": 49,
   "id": "8a983360",
   "metadata": {},
   "outputs": [
    {
     "data": {
      "text/html": [
       "<div>\n",
       "<style scoped>\n",
       "    .dataframe tbody tr th:only-of-type {\n",
       "        vertical-align: middle;\n",
       "    }\n",
       "\n",
       "    .dataframe tbody tr th {\n",
       "        vertical-align: top;\n",
       "    }\n",
       "\n",
       "    .dataframe thead th {\n",
       "        text-align: right;\n",
       "    }\n",
       "</style>\n",
       "<table border=\"1\" class=\"dataframe\">\n",
       "  <thead>\n",
       "    <tr style=\"text-align: right;\">\n",
       "      <th>PCA Components</th>\n",
       "      <th>2</th>\n",
       "      <th>3</th>\n",
       "      <th>4</th>\n",
       "      <th>5</th>\n",
       "      <th>6</th>\n",
       "    </tr>\n",
       "    <tr>\n",
       "      <th>Number of clusters</th>\n",
       "      <th></th>\n",
       "      <th></th>\n",
       "      <th></th>\n",
       "      <th></th>\n",
       "      <th></th>\n",
       "    </tr>\n",
       "  </thead>\n",
       "  <tbody>\n",
       "    <tr>\n",
       "      <th>2</th>\n",
       "      <td>0.619442</td>\n",
       "      <td>0.599961</td>\n",
       "      <td>0.589955</td>\n",
       "      <td>0.587472</td>\n",
       "      <td>0.585963</td>\n",
       "    </tr>\n",
       "    <tr>\n",
       "      <th>3</th>\n",
       "      <td>0.611625</td>\n",
       "      <td>0.586609</td>\n",
       "      <td>0.570949</td>\n",
       "      <td>0.567470</td>\n",
       "      <td>0.564725</td>\n",
       "    </tr>\n",
       "    <tr>\n",
       "      <th>4</th>\n",
       "      <td>0.600752</td>\n",
       "      <td>0.570531</td>\n",
       "      <td>0.553715</td>\n",
       "      <td>0.549286</td>\n",
       "      <td>0.546752</td>\n",
       "    </tr>\n",
       "    <tr>\n",
       "      <th>5</th>\n",
       "      <td>0.567088</td>\n",
       "      <td>0.545911</td>\n",
       "      <td>0.521348</td>\n",
       "      <td>0.515809</td>\n",
       "      <td>0.512537</td>\n",
       "    </tr>\n",
       "    <tr>\n",
       "      <th>6</th>\n",
       "      <td>0.569320</td>\n",
       "      <td>0.550951</td>\n",
       "      <td>0.529829</td>\n",
       "      <td>0.524216</td>\n",
       "      <td>0.515274</td>\n",
       "    </tr>\n",
       "  </tbody>\n",
       "</table>\n",
       "</div>"
      ],
      "text/plain": [
       "PCA Components             2         3         4         5         6\n",
       "Number of clusters                                                  \n",
       "2                   0.619442  0.599961  0.589955  0.587472  0.585963\n",
       "3                   0.611625  0.586609  0.570949  0.567470  0.564725\n",
       "4                   0.600752  0.570531  0.553715  0.549286  0.546752\n",
       "5                   0.567088  0.545911  0.521348  0.515809  0.512537\n",
       "6                   0.569320  0.550951  0.529829  0.524216  0.515274"
      ]
     },
     "execution_count": 49,
     "metadata": {},
     "output_type": "execute_result"
    }
   ],
   "source": [
    "# 3.2.3)\n",
    "df_scaled_pca_sils = pd.DataFrame.from_dict(scaled_pcas)\n",
    "df_scaled_pca_sils.index = clusters_list\n",
    "df_scaled_pca_sils.index.name = 'Number of clusters'\n",
    "df_scaled_pca_sils = df_scaled_pca_sils.rename_axis('PCA Components', axis='columns')\n",
    "df_scaled_pca_sils"
   ]
  },
  {
   "cell_type": "markdown",
   "id": "ae4193d4",
   "metadata": {},
   "source": [
    "**Question**: Why did you select this improvement method? Which combination of number of clusters and number of components produced the best results? Did you improve the silhouette scores? If yes, how much of an improvement did you get over the previous results?\n",
    "\n",
    "*ANSWER HERE*"
   ]
  },
  {
   "cell_type": "code",
   "execution_count": null,
   "id": "05128594",
   "metadata": {},
   "outputs": [],
   "source": []
  }
 ],
 "metadata": {
  "kernelspec": {
   "display_name": "Python 3 (ipykernel)",
   "language": "python",
   "name": "python3"
  },
  "language_info": {
   "codemirror_mode": {
    "name": "ipython",
    "version": 3
   },
   "file_extension": ".py",
   "mimetype": "text/x-python",
   "name": "python",
   "nbconvert_exporter": "python",
   "pygments_lexer": "ipython3",
   "version": "3.9.13"
  }
 },
 "nbformat": 4,
 "nbformat_minor": 5
}
